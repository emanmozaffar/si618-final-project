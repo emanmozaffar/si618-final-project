{
 "cells": [
  {
   "cell_type": "code",
   "execution_count": 73,
   "metadata": {},
   "outputs": [],
   "source": [
    "import pandas as pd\n",
    "import numpy as np"
   ]
  },
  {
   "attachments": {},
   "cell_type": "markdown",
   "metadata": {},
   "source": [
    "The first step is to load our data into separate dataframes. We are collecting and analyzing datasets that concern countries in the EU, and key data points that are associated with transportation, such as train ridership, car usage, economic productivity, and spending on transportation infrastructure. The datasets we are pulling, which are from Eurostat and the Internationa Transport Forum, are as follows:\n",
    "- **GDP per capita in PPS:** Contains EU countries, along with their GDP per capita from 2010 to 2021.\n",
    "- **Population** on 1 January by sex, country of birth and group of citizenship from 2010 to 2021.\n",
    "- **Number of passenger cars per 1,000 inhabitants** in each country from 2010 to 2021.\n",
    "- **Number of passengers transported by railways** in each country from 2010 to 2021.\n",
    "- **Total road spending** including investment, maintenance spending and capital value of road, rail, inland waterways, maritime ports and airports, from years 2000 to 2020.\n",
    "- **Inland transportation investment** including investment expenditure on railways infrastructure, roads, and waterways from 2000 to 2020. Both road spending and inland transportation investment come from the same data source."
   ]
  },
  {
   "cell_type": "code",
   "execution_count": 74,
   "metadata": {},
   "outputs": [],
   "source": [
    "# Load all datasets from csv files into dataframes\n",
    "gdp = pd.read_csv(\"datasets/gdp.csv\")\n",
    "population = pd.read_csv(\"datasets/populations.csv\")\n",
    "passenger_cars = pd.read_csv(\"datasets/cars_per_1000_inhabitants.csv\")\n",
    "passenger_railways = pd.read_csv(\"datasets/passengers_transported.csv\")\n",
    "transportation_investment = pd.read_csv(\"datasets/transportation_spending.csv\")"
   ]
  },
  {
   "cell_type": "code",
   "execution_count": 75,
   "metadata": {},
   "outputs": [],
   "source": [
    "# Drop columns that are not needed from each dataframe\n",
    "gdp.drop(columns=['DATAFLOW', 'LAST UPDATE', 'freq', 'na_item', 'ppp_cat', 'OBS_FLAG'], inplace=True)\n",
    "population.drop(columns=['DATAFLOW', 'LAST UPDATE', 'freq', 'indic_de', 'OBS_FLAG'], inplace=True)\n",
    "passenger_cars.drop(columns=['DATAFLOW', 'LAST UPDATE', 'freq', 'unit', 'OBS_FLAG'], inplace=True)\n",
    "passenger_railways.drop(columns=['DATAFLOW', 'LAST UPDATE', 'freq', 'unit', 'OBS_FLAG'], inplace=True)\n",
    "transportation_investment.drop(columns=['COUNTRY', 'VARIABLE',\n",
    "                             'MEASURE', 'YEAR', 'Unit Code',\n",
    "                            'Unit', 'PowerCode Code',\n",
    "                            'PowerCode', 'Reference Period Code',\n",
    "                            'Reference Period', 'Flag Codes',\n",
    "                            'Flags'], inplace=True)"
   ]
  },
  {
   "cell_type": "code",
   "execution_count": 76,
   "metadata": {},
   "outputs": [],
   "source": [
    "# Rename columns for consistency across all dataframes\n",
    "gdp.rename(columns={\"geo\": \"country\", \"TIME_PERIOD\": \"year\", \"OBS_VALUE\": \"gdp_per_capita\"}, inplace=True)\n",
    "population.rename(columns={\"geo\": \"country\", \"TIME_PERIOD\": \"year\", \"OBS_VALUE\": \"population\"}, inplace=True)\n",
    "passenger_cars.rename(columns={\"geo\": \"country\", \"TIME_PERIOD\": \"year\", \"OBS_VALUE\": \"passenger_cars_per_1000\"}, inplace=True)\n",
    "passenger_railways.rename(columns={\"geo\": \"country\", \"TIME_PERIOD\": \"year\", \"OBS_VALUE\": \"passengers_transported\"}, inplace=True)\n",
    "transportation_investment.rename(columns={\"Country\": \"country\",\n",
    "                                           \"Year\": \"year\",\n",
    "                                            \"Value\": \"value\",\n",
    "                                            \"Variable\": 'variable',\n",
    "                                            'Measure': 'measure'},\n",
    "                                            inplace=True)"
   ]
  },
  {
   "cell_type": "code",
   "execution_count": 77,
   "metadata": {},
   "outputs": [],
   "source": [
    "# Only include the columns where Euro is the determined measure, and where variable = \"Total road spending\" OR \"Total inland transport infrastructure investment\"\n",
    "transportation_investment = transportation_investment[transportation_investment.measure == 'Euro']\n",
    "transportation_investment = transportation_investment[transportation_investment.variable.isin(['Total road spending', 'Total inland transport infrastructure investment'])]"
   ]
  },
  {
   "cell_type": "code",
   "execution_count": 78,
   "metadata": {},
   "outputs": [
    {
     "data": {
      "text/plain": [
       "Euro    1748\n",
       "Name: measure, dtype: int64"
      ]
     },
     "execution_count": 78,
     "metadata": {},
     "output_type": "execute_result"
    }
   ],
   "source": [
    "# Value counts to ensure we filtered properly\n",
    "transportation_investment['measure'].value_counts()"
   ]
  },
  {
   "cell_type": "code",
   "execution_count": 79,
   "metadata": {},
   "outputs": [
    {
     "data": {
      "text/plain": [
       "Total inland transport infrastructure investment    938\n",
       "Total road spending                                 810\n",
       "Name: variable, dtype: int64"
      ]
     },
     "execution_count": 79,
     "metadata": {},
     "output_type": "execute_result"
    }
   ],
   "source": [
    "# Value counts to ensure we filtered properly\n",
    "transportation_investment['variable'].value_counts()"
   ]
  },
  {
   "cell_type": "code",
   "execution_count": 80,
   "metadata": {},
   "outputs": [],
   "source": [
    "# Drop Euro column because it's useless now that everything is in Euros\n",
    "transportation_investment.drop(columns=['measure'], inplace=True)"
   ]
  },
  {
   "cell_type": "code",
   "execution_count": 81,
   "metadata": {},
   "outputs": [
    {
     "data": {
      "text/html": [
       "<div>\n",
       "<style scoped>\n",
       "    .dataframe tbody tr th:only-of-type {\n",
       "        vertical-align: middle;\n",
       "    }\n",
       "\n",
       "    .dataframe tbody tr th {\n",
       "        vertical-align: top;\n",
       "    }\n",
       "\n",
       "    .dataframe thead th {\n",
       "        text-align: right;\n",
       "    }\n",
       "</style>\n",
       "<table border=\"1\" class=\"dataframe\">\n",
       "  <thead>\n",
       "    <tr style=\"text-align: right;\">\n",
       "      <th></th>\n",
       "      <th>country</th>\n",
       "      <th>year</th>\n",
       "      <th>passenger_cars_per_1000</th>\n",
       "    </tr>\n",
       "  </thead>\n",
       "  <tbody>\n",
       "    <tr>\n",
       "      <th>0</th>\n",
       "      <td>AL</td>\n",
       "      <td>2013</td>\n",
       "      <td>118</td>\n",
       "    </tr>\n",
       "    <tr>\n",
       "      <th>1</th>\n",
       "      <td>AL</td>\n",
       "      <td>2014</td>\n",
       "      <td>131</td>\n",
       "    </tr>\n",
       "    <tr>\n",
       "      <th>2</th>\n",
       "      <td>AL</td>\n",
       "      <td>2015</td>\n",
       "      <td>140</td>\n",
       "    </tr>\n",
       "    <tr>\n",
       "      <th>3</th>\n",
       "      <td>AL</td>\n",
       "      <td>2016</td>\n",
       "      <td>152</td>\n",
       "    </tr>\n",
       "    <tr>\n",
       "      <th>4</th>\n",
       "      <td>AL</td>\n",
       "      <td>2017</td>\n",
       "      <td>147</td>\n",
       "    </tr>\n",
       "  </tbody>\n",
       "</table>\n",
       "</div>"
      ],
      "text/plain": [
       "  country  year  passenger_cars_per_1000\n",
       "0      AL  2013                      118\n",
       "1      AL  2014                      131\n",
       "2      AL  2015                      140\n",
       "3      AL  2016                      152\n",
       "4      AL  2017                      147"
      ]
     },
     "execution_count": 81,
     "metadata": {},
     "output_type": "execute_result"
    }
   ],
   "source": [
    "# Preview all dataframes to ensure appropriate names and values are included\n",
    "passenger_cars.head()"
   ]
  },
  {
   "cell_type": "code",
   "execution_count": 82,
   "metadata": {},
   "outputs": [
    {
     "data": {
      "text/html": [
       "<div>\n",
       "<style scoped>\n",
       "    .dataframe tbody tr th:only-of-type {\n",
       "        vertical-align: middle;\n",
       "    }\n",
       "\n",
       "    .dataframe tbody tr th {\n",
       "        vertical-align: top;\n",
       "    }\n",
       "\n",
       "    .dataframe thead th {\n",
       "        text-align: right;\n",
       "    }\n",
       "</style>\n",
       "<table border=\"1\" class=\"dataframe\">\n",
       "  <thead>\n",
       "    <tr style=\"text-align: right;\">\n",
       "      <th></th>\n",
       "      <th>country</th>\n",
       "      <th>year</th>\n",
       "      <th>passengers_transported</th>\n",
       "    </tr>\n",
       "  </thead>\n",
       "  <tbody>\n",
       "    <tr>\n",
       "      <th>0</th>\n",
       "      <td>AT</td>\n",
       "      <td>2010</td>\n",
       "      <td>10263.0</td>\n",
       "    </tr>\n",
       "    <tr>\n",
       "      <th>1</th>\n",
       "      <td>AT</td>\n",
       "      <td>2011</td>\n",
       "      <td>10778.0</td>\n",
       "    </tr>\n",
       "    <tr>\n",
       "      <th>2</th>\n",
       "      <td>AT</td>\n",
       "      <td>2012</td>\n",
       "      <td>11211.0</td>\n",
       "    </tr>\n",
       "    <tr>\n",
       "      <th>3</th>\n",
       "      <td>AT</td>\n",
       "      <td>2013</td>\n",
       "      <td>11804.0</td>\n",
       "    </tr>\n",
       "    <tr>\n",
       "      <th>4</th>\n",
       "      <td>AT</td>\n",
       "      <td>2014</td>\n",
       "      <td>11981.0</td>\n",
       "    </tr>\n",
       "  </tbody>\n",
       "</table>\n",
       "</div>"
      ],
      "text/plain": [
       "  country  year  passengers_transported\n",
       "0      AT  2010                 10263.0\n",
       "1      AT  2011                 10778.0\n",
       "2      AT  2012                 11211.0\n",
       "3      AT  2013                 11804.0\n",
       "4      AT  2014                 11981.0"
      ]
     },
     "execution_count": 82,
     "metadata": {},
     "output_type": "execute_result"
    }
   ],
   "source": [
    "passenger_railways.head()"
   ]
  },
  {
   "cell_type": "code",
   "execution_count": 83,
   "metadata": {},
   "outputs": [
    {
     "data": {
      "text/html": [
       "<div>\n",
       "<style scoped>\n",
       "    .dataframe tbody tr th:only-of-type {\n",
       "        vertical-align: middle;\n",
       "    }\n",
       "\n",
       "    .dataframe tbody tr th {\n",
       "        vertical-align: top;\n",
       "    }\n",
       "\n",
       "    .dataframe thead th {\n",
       "        text-align: right;\n",
       "    }\n",
       "</style>\n",
       "<table border=\"1\" class=\"dataframe\">\n",
       "  <thead>\n",
       "    <tr style=\"text-align: right;\">\n",
       "      <th></th>\n",
       "      <th>country</th>\n",
       "      <th>year</th>\n",
       "      <th>gdp_per_capita</th>\n",
       "    </tr>\n",
       "  </thead>\n",
       "  <tbody>\n",
       "    <tr>\n",
       "      <th>0</th>\n",
       "      <td>AL</td>\n",
       "      <td>2010</td>\n",
       "      <td>29</td>\n",
       "    </tr>\n",
       "    <tr>\n",
       "      <th>1</th>\n",
       "      <td>AL</td>\n",
       "      <td>2011</td>\n",
       "      <td>30</td>\n",
       "    </tr>\n",
       "    <tr>\n",
       "      <th>2</th>\n",
       "      <td>AL</td>\n",
       "      <td>2012</td>\n",
       "      <td>30</td>\n",
       "    </tr>\n",
       "    <tr>\n",
       "      <th>3</th>\n",
       "      <td>AL</td>\n",
       "      <td>2013</td>\n",
       "      <td>29</td>\n",
       "    </tr>\n",
       "    <tr>\n",
       "      <th>4</th>\n",
       "      <td>AL</td>\n",
       "      <td>2014</td>\n",
       "      <td>30</td>\n",
       "    </tr>\n",
       "  </tbody>\n",
       "</table>\n",
       "</div>"
      ],
      "text/plain": [
       "  country  year  gdp_per_capita\n",
       "0      AL  2010              29\n",
       "1      AL  2011              30\n",
       "2      AL  2012              30\n",
       "3      AL  2013              29\n",
       "4      AL  2014              30"
      ]
     },
     "execution_count": 83,
     "metadata": {},
     "output_type": "execute_result"
    }
   ],
   "source": [
    "gdp.head()"
   ]
  },
  {
   "cell_type": "code",
   "execution_count": 84,
   "metadata": {},
   "outputs": [
    {
     "data": {
      "text/html": [
       "<div>\n",
       "<style scoped>\n",
       "    .dataframe tbody tr th:only-of-type {\n",
       "        vertical-align: middle;\n",
       "    }\n",
       "\n",
       "    .dataframe tbody tr th {\n",
       "        vertical-align: top;\n",
       "    }\n",
       "\n",
       "    .dataframe thead th {\n",
       "        text-align: right;\n",
       "    }\n",
       "</style>\n",
       "<table border=\"1\" class=\"dataframe\">\n",
       "  <thead>\n",
       "    <tr style=\"text-align: right;\">\n",
       "      <th></th>\n",
       "      <th>country</th>\n",
       "      <th>year</th>\n",
       "      <th>population</th>\n",
       "    </tr>\n",
       "  </thead>\n",
       "  <tbody>\n",
       "    <tr>\n",
       "      <th>0</th>\n",
       "      <td>AD</td>\n",
       "      <td>2011</td>\n",
       "      <td>78115</td>\n",
       "    </tr>\n",
       "    <tr>\n",
       "      <th>1</th>\n",
       "      <td>AD</td>\n",
       "      <td>2012</td>\n",
       "      <td>78115</td>\n",
       "    </tr>\n",
       "    <tr>\n",
       "      <th>2</th>\n",
       "      <td>AD</td>\n",
       "      <td>2013</td>\n",
       "      <td>76246</td>\n",
       "    </tr>\n",
       "    <tr>\n",
       "      <th>3</th>\n",
       "      <td>AD</td>\n",
       "      <td>2016</td>\n",
       "      <td>71732</td>\n",
       "    </tr>\n",
       "    <tr>\n",
       "      <th>4</th>\n",
       "      <td>AD</td>\n",
       "      <td>2018</td>\n",
       "      <td>74794</td>\n",
       "    </tr>\n",
       "  </tbody>\n",
       "</table>\n",
       "</div>"
      ],
      "text/plain": [
       "  country  year  population\n",
       "0      AD  2011       78115\n",
       "1      AD  2012       78115\n",
       "2      AD  2013       76246\n",
       "3      AD  2016       71732\n",
       "4      AD  2018       74794"
      ]
     },
     "execution_count": 84,
     "metadata": {},
     "output_type": "execute_result"
    }
   ],
   "source": [
    "population.head()"
   ]
  },
  {
   "cell_type": "code",
   "execution_count": 85,
   "metadata": {},
   "outputs": [
    {
     "data": {
      "text/html": [
       "<div>\n",
       "<style scoped>\n",
       "    .dataframe tbody tr th:only-of-type {\n",
       "        vertical-align: middle;\n",
       "    }\n",
       "\n",
       "    .dataframe tbody tr th {\n",
       "        vertical-align: top;\n",
       "    }\n",
       "\n",
       "    .dataframe thead th {\n",
       "        text-align: right;\n",
       "    }\n",
       "</style>\n",
       "<table border=\"1\" class=\"dataframe\">\n",
       "  <thead>\n",
       "    <tr style=\"text-align: right;\">\n",
       "      <th></th>\n",
       "      <th>country</th>\n",
       "      <th>variable</th>\n",
       "      <th>year</th>\n",
       "      <th>value</th>\n",
       "    </tr>\n",
       "  </thead>\n",
       "  <tbody>\n",
       "    <tr>\n",
       "      <th>84</th>\n",
       "      <td>Albania</td>\n",
       "      <td>Total inland transport infrastructure investment</td>\n",
       "      <td>2000</td>\n",
       "      <td>1.104212e+08</td>\n",
       "    </tr>\n",
       "    <tr>\n",
       "      <th>85</th>\n",
       "      <td>Albania</td>\n",
       "      <td>Total inland transport infrastructure investment</td>\n",
       "      <td>2001</td>\n",
       "      <td>1.090002e+08</td>\n",
       "    </tr>\n",
       "    <tr>\n",
       "      <th>86</th>\n",
       "      <td>Albania</td>\n",
       "      <td>Total inland transport infrastructure investment</td>\n",
       "      <td>2002</td>\n",
       "      <td>7.009591e+07</td>\n",
       "    </tr>\n",
       "    <tr>\n",
       "      <th>87</th>\n",
       "      <td>Albania</td>\n",
       "      <td>Total inland transport infrastructure investment</td>\n",
       "      <td>2003</td>\n",
       "      <td>6.152459e+07</td>\n",
       "    </tr>\n",
       "    <tr>\n",
       "      <th>88</th>\n",
       "      <td>Albania</td>\n",
       "      <td>Total inland transport infrastructure investment</td>\n",
       "      <td>2004</td>\n",
       "      <td>9.316940e+07</td>\n",
       "    </tr>\n",
       "  </tbody>\n",
       "</table>\n",
       "</div>"
      ],
      "text/plain": [
       "    country                                          variable  year  \\\n",
       "84  Albania  Total inland transport infrastructure investment  2000   \n",
       "85  Albania  Total inland transport infrastructure investment  2001   \n",
       "86  Albania  Total inland transport infrastructure investment  2002   \n",
       "87  Albania  Total inland transport infrastructure investment  2003   \n",
       "88  Albania  Total inland transport infrastructure investment  2004   \n",
       "\n",
       "           value  \n",
       "84  1.104212e+08  \n",
       "85  1.090002e+08  \n",
       "86  7.009591e+07  \n",
       "87  6.152459e+07  \n",
       "88  9.316940e+07  "
      ]
     },
     "execution_count": 85,
     "metadata": {},
     "output_type": "execute_result"
    }
   ],
   "source": [
    "# Here the transportation_investment df includes both inland transportation and road spending\n",
    "transportation_investment.head()"
   ]
  },
  {
   "cell_type": "code",
   "execution_count": 86,
   "metadata": {},
   "outputs": [],
   "source": [
    "# Convert country codes into countries\n",
    "\n",
    "#Dictionary with codes as keys and names as values\n",
    "country_codes = {\n",
    "    \"BE\": \"Belgium\",\n",
    "    \"BG\": \"Bulgaria\",\n",
    "    \"CZ\": \"Czechia\",\n",
    "    \"DK\": \"Denmark\",\n",
    "    \"EE\": \"Estonia\",\n",
    "    \"IE\": \"Ireland\",\n",
    "    \"EL\": \"Greece\",\n",
    "    \"ES\": \"Spain\",\n",
    "    \"FR\": \"France\",\n",
    "    \"FX\": \"France (metropolitan)\",\n",
    "    \"HR\": \"Croatia\",\n",
    "    \"IT\": \"Italy\",\n",
    "    \"CY\": \"Cyprus\",\n",
    "    \"LV\": \"Latvia\",\n",
    "    \"LT\": \"Lithuania\",\n",
    "    \"LU\": \"Luxembourg\",\n",
    "    \"HU\": \"Hungary\",\n",
    "    \"MT\": \"Malta\",\n",
    "    \"NL\": \"Netherlands\",\n",
    "    \"AT\": \"Austria\",\n",
    "    \"PL\": \"Poland\",\n",
    "    \"PT\": \"Portugal\",\n",
    "    \"RO\": \"Romania\",\n",
    "    \"SI\": \"Slovenia\",\n",
    "    \"SK\": \"Slovakia\",\n",
    "    \"FI\": \"Finland\",\n",
    "    \"SE\": \"Sweden\",\n",
    "    \"IS\": \"Iceland\",\n",
    "    \"LI\": \"Liechtenstein\",\n",
    "    \"NO\": \"Norway\",\n",
    "    \"CH\": \"Switzerland\",\n",
    "    \"UK\": \"United Kingdom\",\n",
    "    \"ME\": \"Montenegro\",\n",
    "    \"MK\": \"North Macedonia\",\n",
    "    \"AL\": \"Albania\",\n",
    "    \"RS\": \"Serbia\",\n",
    "    \"TR\": \"Turkey\",\n",
    "    \"AD\": \"Andorra\",\n",
    "    \"BY\": \"Belarus\",\n",
    "    \"BA\": \"Bosnia\",\n",
    "    \"XK\": \"Kosovo\",\n",
    "    \"MD\": \"Moldova\",\n",
    "    \"MC\": \"Monaco\",\n",
    "    \"RU\": \"Russia\",\n",
    "    \"SM\": \"San Marino\",\n",
    "    \"UA\": \"Ukraine\",\n",
    "    \"AM\": \"Armenia\",\n",
    "    \"AZ\": \"Azerbaijan\",\n",
    "    \"GE\": \"Georgia\"\n",
    "}"
   ]
  }
 ],
 "metadata": {
  "kernelspec": {
   "display_name": "base",
   "language": "python",
   "name": "python3"
  },
  "language_info": {
   "codemirror_mode": {
    "name": "ipython",
    "version": 3
   },
   "file_extension": ".py",
   "mimetype": "text/x-python",
   "name": "python",
   "nbconvert_exporter": "python",
   "pygments_lexer": "ipython3",
   "version": "3.10.9"
  },
  "orig_nbformat": 4
 },
 "nbformat": 4,
 "nbformat_minor": 2
}
