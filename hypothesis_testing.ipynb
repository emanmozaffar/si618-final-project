{
 "cells": [
  {
   "attachments": {},
   "cell_type": "markdown",
   "metadata": {},
   "source": [
    "# Hypothesis Testing"
   ]
  },
  {
   "cell_type": "code",
   "execution_count": 195,
   "metadata": {},
   "outputs": [],
   "source": [
    "# import required libraries\n",
    "import matplotlib.pyplot as plt\n",
    "import numpy as np\n",
    "import pandas as pd\n",
    "import seaborn as sns\n",
    "import scipy.stats as stats\n",
    "from scipy.stats import f # remove\n",
    "from scipy.stats import f_oneway\n",
    "import statsmodels.api as sm # remove\n",
    "from statsmodels.formula.api import ols # remove"
   ]
  },
  {
   "cell_type": "code",
   "execution_count": 196,
   "metadata": {},
   "outputs": [],
   "source": [
    "# load country_data dataset from csv files into dataframe\n",
    "country = pd.read_csv(\"datasets/country_data.csv\")"
   ]
  },
  {
   "cell_type": "code",
   "execution_count": 197,
   "metadata": {},
   "outputs": [
    {
     "data": {
      "text/html": [
       "<div>\n",
       "<style scoped>\n",
       "    .dataframe tbody tr th:only-of-type {\n",
       "        vertical-align: middle;\n",
       "    }\n",
       "\n",
       "    .dataframe tbody tr th {\n",
       "        vertical-align: top;\n",
       "    }\n",
       "\n",
       "    .dataframe thead th {\n",
       "        text-align: right;\n",
       "    }\n",
       "</style>\n",
       "<table border=\"1\" class=\"dataframe\">\n",
       "  <thead>\n",
       "    <tr style=\"text-align: right;\">\n",
       "      <th></th>\n",
       "      <th>Unnamed: 0</th>\n",
       "      <th>country</th>\n",
       "      <th>year</th>\n",
       "      <th>passenger_cars_per_1000</th>\n",
       "      <th>passengers_transported</th>\n",
       "      <th>gdp_per_capita</th>\n",
       "      <th>population</th>\n",
       "      <th>total_road_spending</th>\n",
       "      <th>total_inland_transport_investment</th>\n",
       "    </tr>\n",
       "  </thead>\n",
       "  <tbody>\n",
       "    <tr>\n",
       "      <th>0</th>\n",
       "      <td>9</td>\n",
       "      <td>Austria</td>\n",
       "      <td>2012</td>\n",
       "      <td>542</td>\n",
       "      <td>260518.0</td>\n",
       "      <td>133.0</td>\n",
       "      <td>8408121</td>\n",
       "      <td>8.440000e+08</td>\n",
       "      <td>2.018000e+09</td>\n",
       "    </tr>\n",
       "    <tr>\n",
       "      <th>1</th>\n",
       "      <td>10</td>\n",
       "      <td>Austria</td>\n",
       "      <td>2013</td>\n",
       "      <td>546</td>\n",
       "      <td>271888.0</td>\n",
       "      <td>133.0</td>\n",
       "      <td>8451860</td>\n",
       "      <td>9.220000e+08</td>\n",
       "      <td>2.022000e+09</td>\n",
       "    </tr>\n",
       "    <tr>\n",
       "      <th>2</th>\n",
       "      <td>11</td>\n",
       "      <td>Austria</td>\n",
       "      <td>2014</td>\n",
       "      <td>547</td>\n",
       "      <td>270913.0</td>\n",
       "      <td>132.0</td>\n",
       "      <td>8507786</td>\n",
       "      <td>1.120000e+09</td>\n",
       "      <td>2.030000e+09</td>\n",
       "    </tr>\n",
       "    <tr>\n",
       "      <th>3</th>\n",
       "      <td>12</td>\n",
       "      <td>Austria</td>\n",
       "      <td>2015</td>\n",
       "      <td>546</td>\n",
       "      <td>280060.0</td>\n",
       "      <td>131.0</td>\n",
       "      <td>8584926</td>\n",
       "      <td>1.147000e+09</td>\n",
       "      <td>2.006000e+09</td>\n",
       "    </tr>\n",
       "    <tr>\n",
       "      <th>4</th>\n",
       "      <td>13</td>\n",
       "      <td>Austria</td>\n",
       "      <td>2016</td>\n",
       "      <td>550</td>\n",
       "      <td>286990.0</td>\n",
       "      <td>130.0</td>\n",
       "      <td>8700471</td>\n",
       "      <td>1.141000e+09</td>\n",
       "      <td>1.969000e+09</td>\n",
       "    </tr>\n",
       "  </tbody>\n",
       "</table>\n",
       "</div>"
      ],
      "text/plain": [
       "   Unnamed: 0  country  year  passenger_cars_per_1000  passengers_transported  \\\n",
       "0           9  Austria  2012                      542                260518.0   \n",
       "1          10  Austria  2013                      546                271888.0   \n",
       "2          11  Austria  2014                      547                270913.0   \n",
       "3          12  Austria  2015                      546                280060.0   \n",
       "4          13  Austria  2016                      550                286990.0   \n",
       "\n",
       "   gdp_per_capita  population  total_road_spending  \\\n",
       "0           133.0     8408121         8.440000e+08   \n",
       "1           133.0     8451860         9.220000e+08   \n",
       "2           132.0     8507786         1.120000e+09   \n",
       "3           131.0     8584926         1.147000e+09   \n",
       "4           130.0     8700471         1.141000e+09   \n",
       "\n",
       "   total_inland_transport_investment  \n",
       "0                       2.018000e+09  \n",
       "1                       2.022000e+09  \n",
       "2                       2.030000e+09  \n",
       "3                       2.006000e+09  \n",
       "4                       1.969000e+09  "
      ]
     },
     "execution_count": 197,
     "metadata": {},
     "output_type": "execute_result"
    }
   ],
   "source": [
    "# get the first five rows of the country dataframe\n",
    "country.head()"
   ]
  },
  {
   "cell_type": "code",
   "execution_count": 198,
   "metadata": {},
   "outputs": [
    {
     "data": {
      "text/html": [
       "<div>\n",
       "<style scoped>\n",
       "    .dataframe tbody tr th:only-of-type {\n",
       "        vertical-align: middle;\n",
       "    }\n",
       "\n",
       "    .dataframe tbody tr th {\n",
       "        vertical-align: top;\n",
       "    }\n",
       "\n",
       "    .dataframe thead th {\n",
       "        text-align: right;\n",
       "    }\n",
       "</style>\n",
       "<table border=\"1\" class=\"dataframe\">\n",
       "  <thead>\n",
       "    <tr style=\"text-align: right;\">\n",
       "      <th></th>\n",
       "      <th>Unnamed: 0</th>\n",
       "      <th>year</th>\n",
       "      <th>passenger_cars_per_1000</th>\n",
       "      <th>passengers_transported</th>\n",
       "      <th>gdp_per_capita</th>\n",
       "      <th>population</th>\n",
       "      <th>total_road_spending</th>\n",
       "      <th>total_inland_transport_investment</th>\n",
       "    </tr>\n",
       "  </thead>\n",
       "  <tbody>\n",
       "    <tr>\n",
       "      <th>count</th>\n",
       "      <td>150.000000</td>\n",
       "      <td>150.000000</td>\n",
       "      <td>150.000000</td>\n",
       "      <td>1.500000e+02</td>\n",
       "      <td>150.000000</td>\n",
       "      <td>1.500000e+02</td>\n",
       "      <td>1.500000e+02</td>\n",
       "      <td>1.500000e+02</td>\n",
       "    </tr>\n",
       "    <tr>\n",
       "      <th>mean</th>\n",
       "      <td>174.826667</td>\n",
       "      <td>2015.626667</td>\n",
       "      <td>501.873333</td>\n",
       "      <td>2.740963e+05</td>\n",
       "      <td>112.260000</td>\n",
       "      <td>1.498089e+07</td>\n",
       "      <td>3.138351e+09</td>\n",
       "      <td>3.814688e+09</td>\n",
       "    </tr>\n",
       "    <tr>\n",
       "      <th>std</th>\n",
       "      <td>98.687749</td>\n",
       "      <td>2.515847</td>\n",
       "      <td>94.155968</td>\n",
       "      <td>4.234211e+05</td>\n",
       "      <td>53.613385</td>\n",
       "      <td>2.157131e+07</td>\n",
       "      <td>4.195269e+09</td>\n",
       "      <td>5.876872e+09</td>\n",
       "    </tr>\n",
       "    <tr>\n",
       "      <th>min</th>\n",
       "      <td>9.000000</td>\n",
       "      <td>2012.000000</td>\n",
       "      <td>301.000000</td>\n",
       "      <td>3.238000e+03</td>\n",
       "      <td>46.000000</td>\n",
       "      <td>5.248530e+05</td>\n",
       "      <td>1.922000e+08</td>\n",
       "      <td>1.631000e+08</td>\n",
       "    </tr>\n",
       "    <tr>\n",
       "      <th>25%</th>\n",
       "      <td>93.250000</td>\n",
       "      <td>2013.000000</td>\n",
       "      <td>431.000000</td>\n",
       "      <td>1.969500e+04</td>\n",
       "      <td>74.000000</td>\n",
       "      <td>2.797863e+06</td>\n",
       "      <td>4.035000e+08</td>\n",
       "      <td>4.106782e+08</td>\n",
       "    </tr>\n",
       "    <tr>\n",
       "      <th>50%</th>\n",
       "      <td>171.500000</td>\n",
       "      <td>2015.500000</td>\n",
       "      <td>513.000000</td>\n",
       "      <td>6.879000e+04</td>\n",
       "      <td>104.000000</td>\n",
       "      <td>5.552904e+06</td>\n",
       "      <td>1.037605e+09</td>\n",
       "      <td>1.648500e+09</td>\n",
       "    </tr>\n",
       "    <tr>\n",
       "      <th>75%</th>\n",
       "      <td>229.750000</td>\n",
       "      <td>2018.000000</td>\n",
       "      <td>563.750000</td>\n",
       "      <td>2.716442e+05</td>\n",
       "      <td>129.000000</td>\n",
       "      <td>9.825102e+06</td>\n",
       "      <td>3.523378e+09</td>\n",
       "      <td>3.915846e+09</td>\n",
       "    </tr>\n",
       "    <tr>\n",
       "      <th>max</th>\n",
       "      <td>356.000000</td>\n",
       "      <td>2020.000000</td>\n",
       "      <td>682.000000</td>\n",
       "      <td>1.783232e+06</td>\n",
       "      <td>283.000000</td>\n",
       "      <td>6.748553e+07</td>\n",
       "      <td>1.602470e+10</td>\n",
       "      <td>2.373355e+10</td>\n",
       "    </tr>\n",
       "  </tbody>\n",
       "</table>\n",
       "</div>"
      ],
      "text/plain": [
       "       Unnamed: 0         year  passenger_cars_per_1000  \\\n",
       "count  150.000000   150.000000               150.000000   \n",
       "mean   174.826667  2015.626667               501.873333   \n",
       "std     98.687749     2.515847                94.155968   \n",
       "min      9.000000  2012.000000               301.000000   \n",
       "25%     93.250000  2013.000000               431.000000   \n",
       "50%    171.500000  2015.500000               513.000000   \n",
       "75%    229.750000  2018.000000               563.750000   \n",
       "max    356.000000  2020.000000               682.000000   \n",
       "\n",
       "       passengers_transported  gdp_per_capita    population  \\\n",
       "count            1.500000e+02      150.000000  1.500000e+02   \n",
       "mean             2.740963e+05      112.260000  1.498089e+07   \n",
       "std              4.234211e+05       53.613385  2.157131e+07   \n",
       "min              3.238000e+03       46.000000  5.248530e+05   \n",
       "25%              1.969500e+04       74.000000  2.797863e+06   \n",
       "50%              6.879000e+04      104.000000  5.552904e+06   \n",
       "75%              2.716442e+05      129.000000  9.825102e+06   \n",
       "max              1.783232e+06      283.000000  6.748553e+07   \n",
       "\n",
       "       total_road_spending  total_inland_transport_investment  \n",
       "count         1.500000e+02                       1.500000e+02  \n",
       "mean          3.138351e+09                       3.814688e+09  \n",
       "std           4.195269e+09                       5.876872e+09  \n",
       "min           1.922000e+08                       1.631000e+08  \n",
       "25%           4.035000e+08                       4.106782e+08  \n",
       "50%           1.037605e+09                       1.648500e+09  \n",
       "75%           3.523378e+09                       3.915846e+09  \n",
       "max           1.602470e+10                       2.373355e+10  "
      ]
     },
     "execution_count": 198,
     "metadata": {},
     "output_type": "execute_result"
    }
   ],
   "source": [
    "# get the summary statistics for the country dataframe\n",
    "country.describe()"
   ]
  },
  {
   "cell_type": "code",
   "execution_count": 199,
   "metadata": {},
   "outputs": [],
   "source": [
    "# create mapping dictionary to assign each country to it's respective European region\n",
    "country_to_region = {\n",
    "    'Austria': 'Central Europe',\n",
    "    'Bulgaria': 'Eastern Europe',\n",
    "    'Switzerland': 'Central Europe',\n",
    "    'Denmark': 'Northern Europe',\n",
    "    'Estonia': 'Northern Europe',\n",
    "    'Finland': 'Northern Europe',\n",
    "    'France': 'Western Europe',\n",
    "    'Croatia': 'Eastern Europe',\n",
    "    'Hungary': 'Central Europe',\n",
    "    'Ireland': 'Western Europe',\n",
    "    'Italy': 'Southern Europe',\n",
    "    'Lithuania': 'Eastern Europe',\n",
    "    'Luxembourg': 'Western Europe',\n",
    "    'Latvia': 'Northern Europe',\n",
    "    'Norway': 'Northern Europe',\n",
    "    'Poland': 'Eastern Europe',\n",
    "    'Portugal': 'Southern Europe',\n",
    "    'Sweden': 'Northern Europe',\n",
    "    'Slovenia': 'Central Europe',\n",
    "    'United Kingdom': 'Western Europe'\n",
    "}"
   ]
  },
  {
   "cell_type": "code",
   "execution_count": 200,
   "metadata": {},
   "outputs": [],
   "source": [
    "# create 'region' column in country dataframe and map newly defined regional country values\n",
    "country['region'] = country['country'].map(country_to_region)"
   ]
  },
  {
   "cell_type": "code",
   "execution_count": 201,
   "metadata": {},
   "outputs": [
    {
     "data": {
      "text/html": [
       "<div>\n",
       "<style scoped>\n",
       "    .dataframe tbody tr th:only-of-type {\n",
       "        vertical-align: middle;\n",
       "    }\n",
       "\n",
       "    .dataframe tbody tr th {\n",
       "        vertical-align: top;\n",
       "    }\n",
       "\n",
       "    .dataframe thead th {\n",
       "        text-align: right;\n",
       "    }\n",
       "</style>\n",
       "<table border=\"1\" class=\"dataframe\">\n",
       "  <thead>\n",
       "    <tr style=\"text-align: right;\">\n",
       "      <th></th>\n",
       "      <th>Unnamed: 0</th>\n",
       "      <th>country</th>\n",
       "      <th>year</th>\n",
       "      <th>passenger_cars_per_1000</th>\n",
       "      <th>passengers_transported</th>\n",
       "      <th>gdp_per_capita</th>\n",
       "      <th>population</th>\n",
       "      <th>total_road_spending</th>\n",
       "      <th>total_inland_transport_investment</th>\n",
       "      <th>region</th>\n",
       "    </tr>\n",
       "  </thead>\n",
       "  <tbody>\n",
       "    <tr>\n",
       "      <th>0</th>\n",
       "      <td>9</td>\n",
       "      <td>Austria</td>\n",
       "      <td>2012</td>\n",
       "      <td>542</td>\n",
       "      <td>260518.0</td>\n",
       "      <td>133.0</td>\n",
       "      <td>8408121</td>\n",
       "      <td>8.440000e+08</td>\n",
       "      <td>2.018000e+09</td>\n",
       "      <td>Central Europe</td>\n",
       "    </tr>\n",
       "    <tr>\n",
       "      <th>1</th>\n",
       "      <td>10</td>\n",
       "      <td>Austria</td>\n",
       "      <td>2013</td>\n",
       "      <td>546</td>\n",
       "      <td>271888.0</td>\n",
       "      <td>133.0</td>\n",
       "      <td>8451860</td>\n",
       "      <td>9.220000e+08</td>\n",
       "      <td>2.022000e+09</td>\n",
       "      <td>Central Europe</td>\n",
       "    </tr>\n",
       "    <tr>\n",
       "      <th>2</th>\n",
       "      <td>11</td>\n",
       "      <td>Austria</td>\n",
       "      <td>2014</td>\n",
       "      <td>547</td>\n",
       "      <td>270913.0</td>\n",
       "      <td>132.0</td>\n",
       "      <td>8507786</td>\n",
       "      <td>1.120000e+09</td>\n",
       "      <td>2.030000e+09</td>\n",
       "      <td>Central Europe</td>\n",
       "    </tr>\n",
       "    <tr>\n",
       "      <th>3</th>\n",
       "      <td>12</td>\n",
       "      <td>Austria</td>\n",
       "      <td>2015</td>\n",
       "      <td>546</td>\n",
       "      <td>280060.0</td>\n",
       "      <td>131.0</td>\n",
       "      <td>8584926</td>\n",
       "      <td>1.147000e+09</td>\n",
       "      <td>2.006000e+09</td>\n",
       "      <td>Central Europe</td>\n",
       "    </tr>\n",
       "    <tr>\n",
       "      <th>4</th>\n",
       "      <td>13</td>\n",
       "      <td>Austria</td>\n",
       "      <td>2016</td>\n",
       "      <td>550</td>\n",
       "      <td>286990.0</td>\n",
       "      <td>130.0</td>\n",
       "      <td>8700471</td>\n",
       "      <td>1.141000e+09</td>\n",
       "      <td>1.969000e+09</td>\n",
       "      <td>Central Europe</td>\n",
       "    </tr>\n",
       "  </tbody>\n",
       "</table>\n",
       "</div>"
      ],
      "text/plain": [
       "   Unnamed: 0  country  year  passenger_cars_per_1000  passengers_transported  \\\n",
       "0           9  Austria  2012                      542                260518.0   \n",
       "1          10  Austria  2013                      546                271888.0   \n",
       "2          11  Austria  2014                      547                270913.0   \n",
       "3          12  Austria  2015                      546                280060.0   \n",
       "4          13  Austria  2016                      550                286990.0   \n",
       "\n",
       "   gdp_per_capita  population  total_road_spending  \\\n",
       "0           133.0     8408121         8.440000e+08   \n",
       "1           133.0     8451860         9.220000e+08   \n",
       "2           132.0     8507786         1.120000e+09   \n",
       "3           131.0     8584926         1.147000e+09   \n",
       "4           130.0     8700471         1.141000e+09   \n",
       "\n",
       "   total_inland_transport_investment          region  \n",
       "0                       2.018000e+09  Central Europe  \n",
       "1                       2.022000e+09  Central Europe  \n",
       "2                       2.030000e+09  Central Europe  \n",
       "3                       2.006000e+09  Central Europe  \n",
       "4                       1.969000e+09  Central Europe  "
      ]
     },
     "execution_count": 201,
     "metadata": {},
     "output_type": "execute_result"
    }
   ],
   "source": [
    "# get first five rows of updated country dataframe\n",
    "country.head()"
   ]
  },
  {
   "cell_type": "code",
   "execution_count": 202,
   "metadata": {},
   "outputs": [
    {
     "data": {
      "text/plain": [
       "Text(0.5, 1.0, 'GDP Per Capita by European Regions')"
      ]
     },
     "execution_count": 202,
     "metadata": {},
     "output_type": "execute_result"
    },
    {
     "data": {
      "image/png": "[encoded data removed]",
      "text/plain": [
       "<Figure size 640x480 with 1 Axes>"
      ]
     },
     "metadata": {},
     "output_type": "display_data"
    }
   ],
   "source": [
    "# get boxplot of gdp_per_capita by region\n",
    "sns.boxplot(data=country, x='region', y='gdp_per_capita')\n",
    "plt.xticks(rotation=60)\n",
    "plt.xlabel('Region')\n",
    "plt.ylabel('GDP_Per_Capita')\n",
    "plt.title('GDP Per Capita by European Regions')"
   ]
  },
  {
   "cell_type": "code",
   "execution_count": 203,
   "metadata": {},
   "outputs": [],
   "source": [
    "# create new variable to group data by regions\n",
    "group_regions = country.groupby('region')\n",
    "# group_regions.head()"
   ]
  },
  {
   "cell_type": "code",
   "execution_count": 204,
   "metadata": {},
   "outputs": [],
   "source": [
    "# make a list for each region with their gdp values\n",
    "central_eu_gdp = []\n",
    "western_eu_gdp = []\n",
    "eastern_eu_gdp = []\n",
    "southern_eu_gdp = []\n",
    "northern_eu_gdp = []\n",
    "\n",
    "for temp, region in group_regions:\n",
    "    if temp == 'Central Europe':\n",
    "        central_eu_gdp.extend(region['gdp_per_capita'])\n",
    "    elif temp == 'Western Europe':\n",
    "        western_eu_gdp.extend(region['gdp_per_capita'])\n",
    "    elif temp == 'Eastern Europe':\n",
    "        eastern_eu_gdp.extend(region['gdp_per_capita'])\n",
    "    elif temp == 'Southern Europe':\n",
    "        southern_eu_gdp.extend(region['gdp_per_capita'])\n",
    "    elif temp == 'Northern Europe':\n",
    "        northern_eu_gdp.extend(region['gdp_per_capita'])"
   ]
  },
  {
   "attachments": {},
   "cell_type": "markdown",
   "metadata": {},
   "source": [
    "### ANOVA Test: Is there a significant difference among regional gdp per capita?"
   ]
  },
  {
   "attachments": {},
   "cell_type": "markdown",
   "metadata": {},
   "source": [
    "Null hypothesis: There is no significant difference in gdp per capita across the five regions\n",
    "Alt. hpothesis: There is a significant difference in gdp per capita across the five regions\n",
    "\n",
    "p-value = 0.05"
   ]
  },
  {
   "cell_type": "code",
   "execution_count": 205,
   "metadata": {},
   "outputs": [
    {
     "name": "stdout",
     "output_type": "stream",
     "text": [
      "27.25486610972865 7.12912058998163e-17\n"
     ]
    }
   ],
   "source": [
    "# perform oneway ANOVA to determine if there is a significant difference in regional gdp per capita\n",
    "f_stat, p_value = f_oneway(central_eu_gdp, western_eu_gdp, eastern_eu_gdp, southern_eu_gdp, northern_eu_gdp)\n",
    "print(f_stat, p_value)"
   ]
  },
  {
   "attachments": {},
   "cell_type": "markdown",
   "metadata": {},
   "source": [
    "Our resulting p-value of 7.12912058998163e-17 is less than our alpha of 0.05. Therefore, we reject the null hypothesis and accept there is a significant difference in gdp per capita across the give European regions."
   ]
  },
  {
   "attachments": {},
   "cell_type": "markdown",
   "metadata": {},
   "source": [
    "What if we just compare two regions? Let's use Central Europe as our base and interchange the other 4 regions to see if there is a significant difference in gdp per capita between two regions."
   ]
  },
  {
   "cell_type": "code",
   "execution_count": 210,
   "metadata": {},
   "outputs": [
    {
     "name": "stdout",
     "output_type": "stream",
     "text": [
      "11.735617877878271 0.0011325687132020005\n"
     ]
    }
   ],
   "source": [
    "# perform oneway ANOVA to determine if there is a significant difference in gdp per capita between central and western EU\n",
    "f_stat, p_value = f_oneway(central_eu_gdp, western_eu_gdp)\n",
    "print(f_stat, p_value)"
   ]
  },
  {
   "attachments": {},
   "cell_type": "markdown",
   "metadata": {},
   "source": [
    "Our resulting p-value of 0.0011325687132020005 is less than our alpha of 0.05. Therefore, we reject the null hypothesis and accept that there is a significant difference in gdp per capita between central and western europe."
   ]
  },
  {
   "cell_type": "code",
   "execution_count": 211,
   "metadata": {},
   "outputs": [
    {
     "name": "stdout",
     "output_type": "stream",
     "text": [
      "68.40751244814592 1.6930726947861872e-11\n"
     ]
    }
   ],
   "source": [
    "# perform oneway ANOVA to determine if there is a significant difference in gdp per capita between central and eastern EU\n",
    "f_stat, p_value = f_oneway(central_eu_gdp, eastern_eu_gdp)\n",
    "print(f_stat, p_value)"
   ]
  },
  {
   "attachments": {},
   "cell_type": "markdown",
   "metadata": {},
   "source": [
    "Our resulting p-value of 1.6930726947861872e-11 is less than our alpha of 0.05. Therefore, we reject the null hypothesis and accept that there is a significant difference in gdp per capita between central and eastern europe."
   ]
  },
  {
   "cell_type": "code",
   "execution_count": 212,
   "metadata": {},
   "outputs": [
    {
     "name": "stdout",
     "output_type": "stream",
     "text": [
      "4.553952692895784 0.03953601328451004\n"
     ]
    }
   ],
   "source": [
    "# perform oneway ANOVA to determine if there is a significant difference in gdp per capita between central and southern EU\n",
    "f_stat, p_value = f_oneway(central_eu_gdp, southern_eu_gdp)\n",
    "print(f_stat, p_value)"
   ]
  },
  {
   "attachments": {},
   "cell_type": "markdown",
   "metadata": {},
   "source": [
    "Our resulting p-value of 0.03953601328451004 is less than our alpha of 0.05. Therefore, we reject the null hypothesis and accept that there is a significant difference in gdp per capita between central and southern europe."
   ]
  },
  {
   "cell_type": "code",
   "execution_count": 209,
   "metadata": {},
   "outputs": [
    {
     "name": "stdout",
     "output_type": "stream",
     "text": [
      "2.083925574043586 0.15307720396985192\n"
     ]
    }
   ],
   "source": [
    "# perform oneway ANOVA to determine if there is a significant difference in gdp per capita between central and northern EU\n",
    "f_stat, p_value = f_oneway(central_eu_gdp, northern_eu_gdp)\n",
    "print(f_stat, p_value)"
   ]
  },
  {
   "attachments": {},
   "cell_type": "markdown",
   "metadata": {},
   "source": [
    "Our resulting p-value of 0.15307720396985192 is greater than our alpha of 0.05. Therefore, we accept the null hypothesis that there is no significant difference in gdp per capita between central and northern europe."
   ]
  }
 ],
 "metadata": {
  "kernelspec": {
   "display_name": "Python 3",
   "language": "python",
   "name": "python3"
  },
  "language_info": {
   "codemirror_mode": {
    "name": "ipython",
    "version": 3
   },
   "file_extension": ".py",
   "mimetype": "text/x-python",
   "name": "python",
   "nbconvert_exporter": "python",
   "pygments_lexer": "ipython3",
   "version": "3.10.5"
  },
  "orig_nbformat": 4
 },
 "nbformat": 4,
 "nbformat_minor": 2
}
