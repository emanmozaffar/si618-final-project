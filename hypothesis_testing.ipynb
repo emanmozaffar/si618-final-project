{
 "cells": [
  {
   "attachments": {},
   "cell_type": "markdown",
   "metadata": {},
   "source": [
    "# Hypothesis Testing"
   ]
  },
  {
   "cell_type": "code",
   "execution_count": 1,
   "metadata": {},
   "outputs": [],
   "source": [
    "# import required libraries\n",
    "import pandas as pd\n",
    "import seaborn as sns\n",
    "from scipy.stats import pearsonr"
   ]
  },
  {
   "cell_type": "code",
   "execution_count": 2,
   "metadata": {},
   "outputs": [],
   "source": [
    "# load country_data dataset from csv files into dataframe\n",
    "country = pd.read_csv(\"datasets/country_data.csv\")"
   ]
  },
  {
   "cell_type": "code",
   "execution_count": 3,
   "metadata": {},
   "outputs": [
    {
     "data": {
      "text/html": [
       "<div>\n",
       "<style scoped>\n",
       "    .dataframe tbody tr th:only-of-type {\n",
       "        vertical-align: middle;\n",
       "    }\n",
       "\n",
       "    .dataframe tbody tr th {\n",
       "        vertical-align: top;\n",
       "    }\n",
       "\n",
       "    .dataframe thead th {\n",
       "        text-align: right;\n",
       "    }\n",
       "</style>\n",
       "<table border=\"1\" class=\"dataframe\">\n",
       "  <thead>\n",
       "    <tr style=\"text-align: right;\">\n",
       "      <th></th>\n",
       "      <th>Unnamed: 0</th>\n",
       "      <th>country</th>\n",
       "      <th>year</th>\n",
       "      <th>passenger_cars_per_1000</th>\n",
       "      <th>passengers_transported</th>\n",
       "      <th>gdp_per_capita</th>\n",
       "      <th>population</th>\n",
       "      <th>total_road_spending</th>\n",
       "      <th>total_inland_transport_investment</th>\n",
       "    </tr>\n",
       "  </thead>\n",
       "  <tbody>\n",
       "    <tr>\n",
       "      <th>0</th>\n",
       "      <td>9</td>\n",
       "      <td>Austria</td>\n",
       "      <td>2012</td>\n",
       "      <td>542</td>\n",
       "      <td>260518.0</td>\n",
       "      <td>133.0</td>\n",
       "      <td>8408121</td>\n",
       "      <td>8.440000e+08</td>\n",
       "      <td>2.018000e+09</td>\n",
       "    </tr>\n",
       "    <tr>\n",
       "      <th>1</th>\n",
       "      <td>10</td>\n",
       "      <td>Austria</td>\n",
       "      <td>2013</td>\n",
       "      <td>546</td>\n",
       "      <td>271888.0</td>\n",
       "      <td>133.0</td>\n",
       "      <td>8451860</td>\n",
       "      <td>9.220000e+08</td>\n",
       "      <td>2.022000e+09</td>\n",
       "    </tr>\n",
       "    <tr>\n",
       "      <th>2</th>\n",
       "      <td>11</td>\n",
       "      <td>Austria</td>\n",
       "      <td>2014</td>\n",
       "      <td>547</td>\n",
       "      <td>270913.0</td>\n",
       "      <td>132.0</td>\n",
       "      <td>8507786</td>\n",
       "      <td>1.120000e+09</td>\n",
       "      <td>2.030000e+09</td>\n",
       "    </tr>\n",
       "    <tr>\n",
       "      <th>3</th>\n",
       "      <td>12</td>\n",
       "      <td>Austria</td>\n",
       "      <td>2015</td>\n",
       "      <td>546</td>\n",
       "      <td>280060.0</td>\n",
       "      <td>131.0</td>\n",
       "      <td>8584926</td>\n",
       "      <td>1.147000e+09</td>\n",
       "      <td>2.006000e+09</td>\n",
       "    </tr>\n",
       "    <tr>\n",
       "      <th>4</th>\n",
       "      <td>13</td>\n",
       "      <td>Austria</td>\n",
       "      <td>2016</td>\n",
       "      <td>550</td>\n",
       "      <td>286990.0</td>\n",
       "      <td>130.0</td>\n",
       "      <td>8700471</td>\n",
       "      <td>1.141000e+09</td>\n",
       "      <td>1.969000e+09</td>\n",
       "    </tr>\n",
       "  </tbody>\n",
       "</table>\n",
       "</div>"
      ],
      "text/plain": [
       "   Unnamed: 0  country  year  passenger_cars_per_1000  passengers_transported  \\\n",
       "0           9  Austria  2012                      542                260518.0   \n",
       "1          10  Austria  2013                      546                271888.0   \n",
       "2          11  Austria  2014                      547                270913.0   \n",
       "3          12  Austria  2015                      546                280060.0   \n",
       "4          13  Austria  2016                      550                286990.0   \n",
       "\n",
       "   gdp_per_capita  population  total_road_spending  \\\n",
       "0           133.0     8408121         8.440000e+08   \n",
       "1           133.0     8451860         9.220000e+08   \n",
       "2           132.0     8507786         1.120000e+09   \n",
       "3           131.0     8584926         1.147000e+09   \n",
       "4           130.0     8700471         1.141000e+09   \n",
       "\n",
       "   total_inland_transport_investment  \n",
       "0                       2.018000e+09  \n",
       "1                       2.022000e+09  \n",
       "2                       2.030000e+09  \n",
       "3                       2.006000e+09  \n",
       "4                       1.969000e+09  "
      ]
     },
     "execution_count": 3,
     "metadata": {},
     "output_type": "execute_result"
    }
   ],
   "source": [
    "# get the first five rows of the country dataframe\n",
    "country.head()"
   ]
  },
  {
   "cell_type": "code",
   "execution_count": 4,
   "metadata": {},
   "outputs": [],
   "source": [
    "# add non-road spending column\n",
    "country['non_road_spending'] = country['total_inland_transport_investment'] - country['total_road_spending']"
   ]
  },
  {
   "cell_type": "code",
   "execution_count": 5,
   "metadata": {},
   "outputs": [
    {
     "data": {
      "text/html": [
       "<div>\n",
       "<style scoped>\n",
       "    .dataframe tbody tr th:only-of-type {\n",
       "        vertical-align: middle;\n",
       "    }\n",
       "\n",
       "    .dataframe tbody tr th {\n",
       "        vertical-align: top;\n",
       "    }\n",
       "\n",
       "    .dataframe thead th {\n",
       "        text-align: right;\n",
       "    }\n",
       "</style>\n",
       "<table border=\"1\" class=\"dataframe\">\n",
       "  <thead>\n",
       "    <tr style=\"text-align: right;\">\n",
       "      <th></th>\n",
       "      <th>Unnamed: 0</th>\n",
       "      <th>year</th>\n",
       "      <th>passenger_cars_per_1000</th>\n",
       "      <th>passengers_transported</th>\n",
       "      <th>gdp_per_capita</th>\n",
       "      <th>population</th>\n",
       "      <th>total_road_spending</th>\n",
       "      <th>total_inland_transport_investment</th>\n",
       "      <th>non_road_spending</th>\n",
       "    </tr>\n",
       "  </thead>\n",
       "  <tbody>\n",
       "    <tr>\n",
       "      <th>count</th>\n",
       "      <td>150.000000</td>\n",
       "      <td>150.000000</td>\n",
       "      <td>150.000000</td>\n",
       "      <td>1.500000e+02</td>\n",
       "      <td>150.000000</td>\n",
       "      <td>1.500000e+02</td>\n",
       "      <td>1.500000e+02</td>\n",
       "      <td>1.500000e+02</td>\n",
       "      <td>1.500000e+02</td>\n",
       "    </tr>\n",
       "    <tr>\n",
       "      <th>mean</th>\n",
       "      <td>174.826667</td>\n",
       "      <td>2015.626667</td>\n",
       "      <td>501.873333</td>\n",
       "      <td>2.740963e+05</td>\n",
       "      <td>112.260000</td>\n",
       "      <td>1.498089e+07</td>\n",
       "      <td>3.138351e+09</td>\n",
       "      <td>3.814688e+09</td>\n",
       "      <td>6.763373e+08</td>\n",
       "    </tr>\n",
       "    <tr>\n",
       "      <th>std</th>\n",
       "      <td>98.687749</td>\n",
       "      <td>2.515847</td>\n",
       "      <td>94.155968</td>\n",
       "      <td>4.234211e+05</td>\n",
       "      <td>53.613385</td>\n",
       "      <td>2.157131e+07</td>\n",
       "      <td>4.195269e+09</td>\n",
       "      <td>5.876872e+09</td>\n",
       "      <td>2.746606e+09</td>\n",
       "    </tr>\n",
       "    <tr>\n",
       "      <th>min</th>\n",
       "      <td>9.000000</td>\n",
       "      <td>2012.000000</td>\n",
       "      <td>301.000000</td>\n",
       "      <td>3.238000e+03</td>\n",
       "      <td>46.000000</td>\n",
       "      <td>5.248530e+05</td>\n",
       "      <td>1.922000e+08</td>\n",
       "      <td>1.631000e+08</td>\n",
       "      <td>-5.696000e+09</td>\n",
       "    </tr>\n",
       "    <tr>\n",
       "      <th>25%</th>\n",
       "      <td>93.250000</td>\n",
       "      <td>2013.000000</td>\n",
       "      <td>431.000000</td>\n",
       "      <td>1.969500e+04</td>\n",
       "      <td>74.000000</td>\n",
       "      <td>2.797863e+06</td>\n",
       "      <td>4.035000e+08</td>\n",
       "      <td>4.106782e+08</td>\n",
       "      <td>-7.404447e+07</td>\n",
       "    </tr>\n",
       "    <tr>\n",
       "      <th>50%</th>\n",
       "      <td>171.500000</td>\n",
       "      <td>2015.500000</td>\n",
       "      <td>513.000000</td>\n",
       "      <td>6.879000e+04</td>\n",
       "      <td>104.000000</td>\n",
       "      <td>5.552904e+06</td>\n",
       "      <td>1.037605e+09</td>\n",
       "      <td>1.648500e+09</td>\n",
       "      <td>1.700000e+07</td>\n",
       "    </tr>\n",
       "    <tr>\n",
       "      <th>75%</th>\n",
       "      <td>229.750000</td>\n",
       "      <td>2018.000000</td>\n",
       "      <td>563.750000</td>\n",
       "      <td>2.716442e+05</td>\n",
       "      <td>129.000000</td>\n",
       "      <td>9.825102e+06</td>\n",
       "      <td>3.523378e+09</td>\n",
       "      <td>3.915846e+09</td>\n",
       "      <td>4.378088e+08</td>\n",
       "    </tr>\n",
       "    <tr>\n",
       "      <th>max</th>\n",
       "      <td>356.000000</td>\n",
       "      <td>2020.000000</td>\n",
       "      <td>682.000000</td>\n",
       "      <td>1.783232e+06</td>\n",
       "      <td>283.000000</td>\n",
       "      <td>6.748553e+07</td>\n",
       "      <td>1.602470e+10</td>\n",
       "      <td>2.373355e+10</td>\n",
       "      <td>1.150134e+10</td>\n",
       "    </tr>\n",
       "  </tbody>\n",
       "</table>\n",
       "</div>"
      ],
      "text/plain": [
       "       Unnamed: 0         year  passenger_cars_per_1000  \\\n",
       "count  150.000000   150.000000               150.000000   \n",
       "mean   174.826667  2015.626667               501.873333   \n",
       "std     98.687749     2.515847                94.155968   \n",
       "min      9.000000  2012.000000               301.000000   \n",
       "25%     93.250000  2013.000000               431.000000   \n",
       "50%    171.500000  2015.500000               513.000000   \n",
       "75%    229.750000  2018.000000               563.750000   \n",
       "max    356.000000  2020.000000               682.000000   \n",
       "\n",
       "       passengers_transported  gdp_per_capita    population  \\\n",
       "count            1.500000e+02      150.000000  1.500000e+02   \n",
       "mean             2.740963e+05      112.260000  1.498089e+07   \n",
       "std              4.234211e+05       53.613385  2.157131e+07   \n",
       "min              3.238000e+03       46.000000  5.248530e+05   \n",
       "25%              1.969500e+04       74.000000  2.797863e+06   \n",
       "50%              6.879000e+04      104.000000  5.552904e+06   \n",
       "75%              2.716442e+05      129.000000  9.825102e+06   \n",
       "max              1.783232e+06      283.000000  6.748553e+07   \n",
       "\n",
       "       total_road_spending  total_inland_transport_investment  \\\n",
       "count         1.500000e+02                       1.500000e+02   \n",
       "mean          3.138351e+09                       3.814688e+09   \n",
       "std           4.195269e+09                       5.876872e+09   \n",
       "min           1.922000e+08                       1.631000e+08   \n",
       "25%           4.035000e+08                       4.106782e+08   \n",
       "50%           1.037605e+09                       1.648500e+09   \n",
       "75%           3.523378e+09                       3.915846e+09   \n",
       "max           1.602470e+10                       2.373355e+10   \n",
       "\n",
       "       non_road_spending  \n",
       "count       1.500000e+02  \n",
       "mean        6.763373e+08  \n",
       "std         2.746606e+09  \n",
       "min        -5.696000e+09  \n",
       "25%        -7.404447e+07  \n",
       "50%         1.700000e+07  \n",
       "75%         4.378088e+08  \n",
       "max         1.150134e+10  "
      ]
     },
     "execution_count": 5,
     "metadata": {},
     "output_type": "execute_result"
    }
   ],
   "source": [
    "# get the summary statistics for the country dataframe\n",
    "country.describe()"
   ]
  },
  {
   "cell_type": "code",
   "execution_count": 6,
   "metadata": {},
   "outputs": [
    {
     "data": {
      "text/html": [
       "<div>\n",
       "<style scoped>\n",
       "    .dataframe tbody tr th:only-of-type {\n",
       "        vertical-align: middle;\n",
       "    }\n",
       "\n",
       "    .dataframe tbody tr th {\n",
       "        vertical-align: top;\n",
       "    }\n",
       "\n",
       "    .dataframe thead th {\n",
       "        text-align: right;\n",
       "    }\n",
       "</style>\n",
       "<table border=\"1\" class=\"dataframe\">\n",
       "  <thead>\n",
       "    <tr style=\"text-align: right;\">\n",
       "      <th></th>\n",
       "      <th>Unnamed: 0</th>\n",
       "      <th>country</th>\n",
       "      <th>year</th>\n",
       "      <th>passenger_cars_per_1000</th>\n",
       "      <th>passengers_transported</th>\n",
       "      <th>gdp_per_capita</th>\n",
       "      <th>population</th>\n",
       "      <th>total_road_spending</th>\n",
       "      <th>total_inland_transport_investment</th>\n",
       "      <th>non_road_spending</th>\n",
       "    </tr>\n",
       "  </thead>\n",
       "  <tbody>\n",
       "    <tr>\n",
       "      <th>0</th>\n",
       "      <td>9</td>\n",
       "      <td>Austria</td>\n",
       "      <td>2012</td>\n",
       "      <td>542</td>\n",
       "      <td>260518.0</td>\n",
       "      <td>133.0</td>\n",
       "      <td>8408121</td>\n",
       "      <td>8.440000e+08</td>\n",
       "      <td>2.018000e+09</td>\n",
       "      <td>1.174000e+09</td>\n",
       "    </tr>\n",
       "    <tr>\n",
       "      <th>1</th>\n",
       "      <td>10</td>\n",
       "      <td>Austria</td>\n",
       "      <td>2013</td>\n",
       "      <td>546</td>\n",
       "      <td>271888.0</td>\n",
       "      <td>133.0</td>\n",
       "      <td>8451860</td>\n",
       "      <td>9.220000e+08</td>\n",
       "      <td>2.022000e+09</td>\n",
       "      <td>1.100000e+09</td>\n",
       "    </tr>\n",
       "    <tr>\n",
       "      <th>2</th>\n",
       "      <td>11</td>\n",
       "      <td>Austria</td>\n",
       "      <td>2014</td>\n",
       "      <td>547</td>\n",
       "      <td>270913.0</td>\n",
       "      <td>132.0</td>\n",
       "      <td>8507786</td>\n",
       "      <td>1.120000e+09</td>\n",
       "      <td>2.030000e+09</td>\n",
       "      <td>9.100000e+08</td>\n",
       "    </tr>\n",
       "    <tr>\n",
       "      <th>3</th>\n",
       "      <td>12</td>\n",
       "      <td>Austria</td>\n",
       "      <td>2015</td>\n",
       "      <td>546</td>\n",
       "      <td>280060.0</td>\n",
       "      <td>131.0</td>\n",
       "      <td>8584926</td>\n",
       "      <td>1.147000e+09</td>\n",
       "      <td>2.006000e+09</td>\n",
       "      <td>8.590000e+08</td>\n",
       "    </tr>\n",
       "    <tr>\n",
       "      <th>4</th>\n",
       "      <td>13</td>\n",
       "      <td>Austria</td>\n",
       "      <td>2016</td>\n",
       "      <td>550</td>\n",
       "      <td>286990.0</td>\n",
       "      <td>130.0</td>\n",
       "      <td>8700471</td>\n",
       "      <td>1.141000e+09</td>\n",
       "      <td>1.969000e+09</td>\n",
       "      <td>8.280000e+08</td>\n",
       "    </tr>\n",
       "  </tbody>\n",
       "</table>\n",
       "</div>"
      ],
      "text/plain": [
       "   Unnamed: 0  country  year  passenger_cars_per_1000  passengers_transported  \\\n",
       "0           9  Austria  2012                      542                260518.0   \n",
       "1          10  Austria  2013                      546                271888.0   \n",
       "2          11  Austria  2014                      547                270913.0   \n",
       "3          12  Austria  2015                      546                280060.0   \n",
       "4          13  Austria  2016                      550                286990.0   \n",
       "\n",
       "   gdp_per_capita  population  total_road_spending  \\\n",
       "0           133.0     8408121         8.440000e+08   \n",
       "1           133.0     8451860         9.220000e+08   \n",
       "2           132.0     8507786         1.120000e+09   \n",
       "3           131.0     8584926         1.147000e+09   \n",
       "4           130.0     8700471         1.141000e+09   \n",
       "\n",
       "   total_inland_transport_investment  non_road_spending  \n",
       "0                       2.018000e+09       1.174000e+09  \n",
       "1                       2.022000e+09       1.100000e+09  \n",
       "2                       2.030000e+09       9.100000e+08  \n",
       "3                       2.006000e+09       8.590000e+08  \n",
       "4                       1.969000e+09       8.280000e+08  "
      ]
     },
     "execution_count": 6,
     "metadata": {},
     "output_type": "execute_result"
    }
   ],
   "source": [
    "# get first five rows of country dataframe with new 'non_road_spending' column\n",
    "country.head()"
   ]
  },
  {
   "cell_type": "code",
   "execution_count": 7,
   "metadata": {},
   "outputs": [],
   "source": [
    "# create mapping dictionary to assign each country to it's respective European region based on EuroVoc\n",
    "country_to_region = {\n",
    "    'Austria': 'western_europe',\n",
    "    'Bulgaria': 'central_eastern_europe',\n",
    "    'Switzerland': 'western_europe',\n",
    "    'Denmark': 'northern_europe',\n",
    "    'Estonia': 'northern_europe',\n",
    "    'Finland': 'northern_europe',\n",
    "    'France': 'western_europe',\n",
    "    'Croatia': 'central_eastern_europe',\n",
    "    'Hungary': 'central_eastern_europe',\n",
    "    'Ireland': 'western_europe',\n",
    "    'Italy': 'southern_europe',\n",
    "    'Lithuania': 'northern_europe',\n",
    "    'Luxembourg': 'western_europe',\n",
    "    'Latvia': 'northern_europe',\n",
    "    'Norway': 'northern_europe',\n",
    "    'Poland': 'central_eastern_europe',\n",
    "    'Portugal': 'southern_europe',\n",
    "    'Sweden': 'northern_europe',\n",
    "    'Slovenia': 'central_eastern_europe',\n",
    "    'United Kingdom': 'western_europe'\n",
    "}"
   ]
  },
  {
   "cell_type": "code",
   "execution_count": 8,
   "metadata": {},
   "outputs": [],
   "source": [
    "# create 'region' column in country dataframe and map newly defined regional country values\n",
    "country['region'] = country['country'].map(country_to_region)"
   ]
  },
  {
   "cell_type": "code",
   "execution_count": 9,
   "metadata": {},
   "outputs": [
    {
     "data": {
      "text/html": [
       "<div>\n",
       "<style scoped>\n",
       "    .dataframe tbody tr th:only-of-type {\n",
       "        vertical-align: middle;\n",
       "    }\n",
       "\n",
       "    .dataframe tbody tr th {\n",
       "        vertical-align: top;\n",
       "    }\n",
       "\n",
       "    .dataframe thead th {\n",
       "        text-align: right;\n",
       "    }\n",
       "</style>\n",
       "<table border=\"1\" class=\"dataframe\">\n",
       "  <thead>\n",
       "    <tr style=\"text-align: right;\">\n",
       "      <th></th>\n",
       "      <th>Unnamed: 0</th>\n",
       "      <th>country</th>\n",
       "      <th>year</th>\n",
       "      <th>passenger_cars_per_1000</th>\n",
       "      <th>passengers_transported</th>\n",
       "      <th>gdp_per_capita</th>\n",
       "      <th>population</th>\n",
       "      <th>total_road_spending</th>\n",
       "      <th>total_inland_transport_investment</th>\n",
       "      <th>non_road_spending</th>\n",
       "      <th>region</th>\n",
       "    </tr>\n",
       "  </thead>\n",
       "  <tbody>\n",
       "    <tr>\n",
       "      <th>0</th>\n",
       "      <td>9</td>\n",
       "      <td>Austria</td>\n",
       "      <td>2012</td>\n",
       "      <td>542</td>\n",
       "      <td>260518.0</td>\n",
       "      <td>133.0</td>\n",
       "      <td>8408121</td>\n",
       "      <td>8.440000e+08</td>\n",
       "      <td>2.018000e+09</td>\n",
       "      <td>1.174000e+09</td>\n",
       "      <td>western_europe</td>\n",
       "    </tr>\n",
       "    <tr>\n",
       "      <th>1</th>\n",
       "      <td>10</td>\n",
       "      <td>Austria</td>\n",
       "      <td>2013</td>\n",
       "      <td>546</td>\n",
       "      <td>271888.0</td>\n",
       "      <td>133.0</td>\n",
       "      <td>8451860</td>\n",
       "      <td>9.220000e+08</td>\n",
       "      <td>2.022000e+09</td>\n",
       "      <td>1.100000e+09</td>\n",
       "      <td>western_europe</td>\n",
       "    </tr>\n",
       "    <tr>\n",
       "      <th>2</th>\n",
       "      <td>11</td>\n",
       "      <td>Austria</td>\n",
       "      <td>2014</td>\n",
       "      <td>547</td>\n",
       "      <td>270913.0</td>\n",
       "      <td>132.0</td>\n",
       "      <td>8507786</td>\n",
       "      <td>1.120000e+09</td>\n",
       "      <td>2.030000e+09</td>\n",
       "      <td>9.100000e+08</td>\n",
       "      <td>western_europe</td>\n",
       "    </tr>\n",
       "    <tr>\n",
       "      <th>3</th>\n",
       "      <td>12</td>\n",
       "      <td>Austria</td>\n",
       "      <td>2015</td>\n",
       "      <td>546</td>\n",
       "      <td>280060.0</td>\n",
       "      <td>131.0</td>\n",
       "      <td>8584926</td>\n",
       "      <td>1.147000e+09</td>\n",
       "      <td>2.006000e+09</td>\n",
       "      <td>8.590000e+08</td>\n",
       "      <td>western_europe</td>\n",
       "    </tr>\n",
       "    <tr>\n",
       "      <th>4</th>\n",
       "      <td>13</td>\n",
       "      <td>Austria</td>\n",
       "      <td>2016</td>\n",
       "      <td>550</td>\n",
       "      <td>286990.0</td>\n",
       "      <td>130.0</td>\n",
       "      <td>8700471</td>\n",
       "      <td>1.141000e+09</td>\n",
       "      <td>1.969000e+09</td>\n",
       "      <td>8.280000e+08</td>\n",
       "      <td>western_europe</td>\n",
       "    </tr>\n",
       "  </tbody>\n",
       "</table>\n",
       "</div>"
      ],
      "text/plain": [
       "   Unnamed: 0  country  year  passenger_cars_per_1000  passengers_transported  \\\n",
       "0           9  Austria  2012                      542                260518.0   \n",
       "1          10  Austria  2013                      546                271888.0   \n",
       "2          11  Austria  2014                      547                270913.0   \n",
       "3          12  Austria  2015                      546                280060.0   \n",
       "4          13  Austria  2016                      550                286990.0   \n",
       "\n",
       "   gdp_per_capita  population  total_road_spending  \\\n",
       "0           133.0     8408121         8.440000e+08   \n",
       "1           133.0     8451860         9.220000e+08   \n",
       "2           132.0     8507786         1.120000e+09   \n",
       "3           131.0     8584926         1.147000e+09   \n",
       "4           130.0     8700471         1.141000e+09   \n",
       "\n",
       "   total_inland_transport_investment  non_road_spending          region  \n",
       "0                       2.018000e+09       1.174000e+09  western_europe  \n",
       "1                       2.022000e+09       1.100000e+09  western_europe  \n",
       "2                       2.030000e+09       9.100000e+08  western_europe  \n",
       "3                       2.006000e+09       8.590000e+08  western_europe  \n",
       "4                       1.969000e+09       8.280000e+08  western_europe  "
      ]
     },
     "execution_count": 9,
     "metadata": {},
     "output_type": "execute_result"
    }
   ],
   "source": [
    "# get first five rows of updated country dataframe\n",
    "country.head()"
   ]
  },
  {
   "cell_type": "code",
   "execution_count": 28,
   "metadata": {},
   "outputs": [
    {
     "data": {
      "text/plain": [
       "<Axes: >"
      ]
     },
     "execution_count": 28,
     "metadata": {},
     "output_type": "execute_result"
    },
    {
     "data": {
      "image/png": "[encoded data removed]",
      "text/plain": [
       "<Figure size 640x480 with 2 Axes>"
      ]
     },
     "metadata": {},
     "output_type": "display_data"
    }
   ],
   "source": [
    "# get correlation heatmap for country variables\n",
    "sns.heatmap(country.corr(numeric_only=True), vmin=-1, vmax=1, annot=True, cmap='rocket_r')"
   ]
  },
  {
   "attachments": {},
   "cell_type": "markdown",
   "metadata": {},
   "source": [
    "- Assume an alpha of > 0.05 = enough evidence to say there is a significant correlation between two variables\n",
    "- Assume an alpha of < 0.05 = not enough evidence to say there is a significant correlation between two variables"
   ]
  },
  {
   "cell_type": "code",
   "execution_count": 10,
   "metadata": {},
   "outputs": [
    {
     "name": "stdout",
     "output_type": "stream",
     "text": [
      "Correlation coefficient: 0.900893611907557\n",
      "P-value: 1.6410908029695993e-55\n"
     ]
    }
   ],
   "source": [
    "# calculate pearson correlation coefficient and p_value for 'passengers_transported' and 'total_road_spending'\n",
    "coefficient, p_value = pearsonr(country['passengers_transported'], country['total_road_spending'])\n",
    "\n",
    "print(f\"Correlation coefficient: {coefficient}\")\n",
    "print(f\"P-value: {p_value}\")"
   ]
  },
  {
   "attachments": {},
   "cell_type": "markdown",
   "metadata": {},
   "source": [
    "Since the correlation coefficient is positive, it indicates that there is a positive linear relationship between the two variables. Additionally, the P-value is less than 0.05, indicating there is a statistically significant correlation between 'total_road_spending' and 'passengers_transported'."
   ]
  },
  {
   "cell_type": "code",
   "execution_count": 11,
   "metadata": {},
   "outputs": [
    {
     "name": "stdout",
     "output_type": "stream",
     "text": [
      "Correlation coefficient: 0.9462689363081649\n",
      "P-value: 1.8941612003955495e-74\n"
     ]
    }
   ],
   "source": [
    "# calculate pearson correlation coefficient and p_value for 'passengers_transported' and 'total_inland_transport_investment'\n",
    "coefficient, p_value = pearsonr(country['passengers_transported'], country['total_inland_transport_investment'])\n",
    "\n",
    "print(f\"Correlation coefficient: {coefficient}\")\n",
    "print(f\"P-value: {p_value}\")"
   ]
  },
  {
   "attachments": {},
   "cell_type": "markdown",
   "metadata": {},
   "source": [
    "Since the correlation coefficient is positive, it indicates that there is a positive linear relationship between the two variables. Additionally, the P-value is less than 0.05, indicating there is a statistically significant correlation between 'total_inland_transport_investment' and 'passengers_transported'."
   ]
  },
  {
   "cell_type": "code",
   "execution_count": 12,
   "metadata": {},
   "outputs": [
    {
     "name": "stdout",
     "output_type": "stream",
     "text": [
      "Correlation coefficient: 0.6486586696487426\n",
      "P-value: 2.8300833674546186e-19\n"
     ]
    }
   ],
   "source": [
    "# calculate pearson correlation coefficient and p_value for 'passengers_transported' and 'non_road_spending'\n",
    "coefficient, p_value = pearsonr(country['passengers_transported'], country['non_road_spending'])\n",
    "\n",
    "print(f\"Correlation coefficient: {coefficient}\")\n",
    "print(f\"P-value: {p_value}\")"
   ]
  },
  {
   "attachments": {},
   "cell_type": "markdown",
   "metadata": {},
   "source": [
    "Since the correlation coefficient is positive, it indicates that there is a positive linear relationship between the two variables. Additionally, the P-value is less than 0.05, indicating there is a statistically significant correlation between 'non_road_spending' and 'passengers_transported'."
   ]
  },
  {
   "cell_type": "code",
   "execution_count": 32,
   "metadata": {},
   "outputs": [
    {
     "name": "stdout",
     "output_type": "stream",
     "text": [
      "Correlation coefficient: 0.8997119104948246\n",
      "P-value: 3.77258455614286e-55\n"
     ]
    }
   ],
   "source": [
    "# calculate pearson correlation coefficient and p_value for 'passengers_transported' and 'population'\n",
    "coefficient, p_value = pearsonr(country['passengers_transported'], country['population'])\n",
    "\n",
    "print(f\"Correlation coefficient: {coefficient}\")\n",
    "print(f\"P-value: {p_value}\")"
   ]
  },
  {
   "attachments": {},
   "cell_type": "markdown",
   "metadata": {},
   "source": [
    "Since the correlation coefficient is positive, it indicates that there is a positive linear relationship between the two variables. Additionally, the P-value is less than 0.05, indicating there is a statistically significant correlation between 'population' and 'passengers_transported'."
   ]
  },
  {
   "cell_type": "code",
   "execution_count": 14,
   "metadata": {},
   "outputs": [
    {
     "name": "stdout",
     "output_type": "stream",
     "text": [
      "Correlation coefficient: 0.3050084862950847\n",
      "P-value: 0.0001475451099127948\n"
     ]
    }
   ],
   "source": [
    "# calculate pearson correlation coefficient and p_value for 'passenger_cars_per_1000' and 'total_road_spending'\n",
    "coefficient, p_value = pearsonr(country['passenger_cars_per_1000'], country['total_road_spending'])\n",
    "\n",
    "print(f\"Correlation coefficient: {coefficient}\")\n",
    "print(f\"P-value: {p_value}\")"
   ]
  },
  {
   "attachments": {},
   "cell_type": "markdown",
   "metadata": {},
   "source": [
    "Since the correlation coefficient is positive, it indicates that there is a positive linear relationship between the two variables. Additionally, the P-value is less than 0.05, indicating there is a statistically significant correlation between 'total_road_spending' and 'passenger_cars_per_1000'."
   ]
  },
  {
   "cell_type": "code",
   "execution_count": 15,
   "metadata": {},
   "outputs": [
    {
     "name": "stdout",
     "output_type": "stream",
     "text": [
      "Correlation coefficient: 0.2023465512245354\n",
      "P-value: 0.013019303848693646\n"
     ]
    }
   ],
   "source": [
    "# calculate pearson correlation coefficient and p_value for 'passenger_cars_per_1000' and 'total_inland_transport_investment'\n",
    "coefficient, p_value = pearsonr(country['passenger_cars_per_1000'], country['total_inland_transport_investment'])\n",
    "\n",
    "print(f\"Correlation coefficient: {coefficient}\")\n",
    "print(f\"P-value: {p_value}\")"
   ]
  },
  {
   "attachments": {},
   "cell_type": "markdown",
   "metadata": {},
   "source": [
    "Since the correlation coefficient is positive, it indicates that there is a positive linear relationship between the two variables. Additionally, the P-value is less than 0.05, indicating there is a statistically significant correlation between 'total_inland_transport_investment' and 'passenger_cars_per_1000'."
   ]
  },
  {
   "cell_type": "code",
   "execution_count": 17,
   "metadata": {},
   "outputs": [
    {
     "name": "stdout",
     "output_type": "stream",
     "text": [
      "Correlation coefficient: -0.032923545491491894\n",
      "P-value: 0.6891825158969822\n"
     ]
    }
   ],
   "source": [
    "# calculate pearson correlation coefficient and p_value for 'passenger_cars_per_1000' and 'non_road_spending'\n",
    "coefficient, p_value = pearsonr(country['passenger_cars_per_1000'], country['non_road_spending'])\n",
    "\n",
    "print(f\"Correlation coefficient: {coefficient}\")\n",
    "print(f\"P-value: {p_value}\")"
   ]
  },
  {
   "attachments": {},
   "cell_type": "markdown",
   "metadata": {},
   "source": [
    "Since the correlation coefficient is negative, it indicates that there is a negative linear relationship between the two variables. Additionally, the P-value is greater than 0.05, indicating there is not a statistically significant correlation between 'non_road_spending' and 'passenger_cars_per_1000'."
   ]
  },
  {
   "cell_type": "code",
   "execution_count": 33,
   "metadata": {},
   "outputs": [
    {
     "name": "stdout",
     "output_type": "stream",
     "text": [
      "Correlation coefficient: 0.2553988062407187\n",
      "P-value: 0.0016088466319212353\n"
     ]
    }
   ],
   "source": [
    "# calculate pearson correlation coefficient and p_value for 'passenger_cars_per_1000' and 'population'\n",
    "coefficient, p_value = pearsonr(country['passenger_cars_per_1000'], country['population'])\n",
    "\n",
    "print(f\"Correlation coefficient: {coefficient}\")\n",
    "print(f\"P-value: {p_value}\")"
   ]
  },
  {
   "attachments": {},
   "cell_type": "markdown",
   "metadata": {},
   "source": [
    "Since the correlation coefficient is positive, it indicates that there is a positive linear relationship between the two variables. Additionally, the P-value is less than 0.05, indicating there is a statistically significant correlation between 'population' and 'passenger_cars_per_1000'."
   ]
  },
  {
   "cell_type": "code",
   "execution_count": 18,
   "metadata": {},
   "outputs": [
    {
     "name": "stdout",
     "output_type": "stream",
     "text": [
      "Correlation coefficient: 0.039371393348320266\n",
      "P-value: 0.6324005120026722\n"
     ]
    }
   ],
   "source": [
    "# calculate pearson correlation coefficient and p_value for 'gdp_per_capita' and 'total_road_spending'\n",
    "coefficient, p_value = pearsonr(country['gdp_per_capita'], country['total_road_spending'])\n",
    "\n",
    "print(f\"Correlation coefficient: {coefficient}\")\n",
    "print(f\"P-value: {p_value}\")"
   ]
  },
  {
   "attachments": {},
   "cell_type": "markdown",
   "metadata": {},
   "source": [
    "Since the correlation coefficient is positive, it indicates that there is a positive linear relationship between the two variables. Additionally, the P-value is greater than 0.05, indicating there is not a statistically significant correlation between 'total_road_spending' and 'gdp_per_capita'."
   ]
  },
  {
   "cell_type": "code",
   "execution_count": 19,
   "metadata": {},
   "outputs": [
    {
     "name": "stdout",
     "output_type": "stream",
     "text": [
      "Correlation coefficient: 0.04322834543981994\n",
      "P-value: 0.5994069112592917\n"
     ]
    }
   ],
   "source": [
    "# calculate pearson correlation coefficient and p_value for 'gdp_per_capita' and 'total_inland_transport_investment'\n",
    "coefficient, p_value = pearsonr(country['gdp_per_capita'], country['total_inland_transport_investment'])\n",
    "\n",
    "print(f\"Correlation coefficient: {coefficient}\")\n",
    "print(f\"P-value: {p_value}\")"
   ]
  },
  {
   "attachments": {},
   "cell_type": "markdown",
   "metadata": {},
   "source": [
    "Since the correlation coefficient is positive, it indicates that there is a positive linear relationship between the two variables. Additionally, the P-value is greater than 0.05, indicating there is not a statistically significant correlation between 'total_inaldn_transport_investment' and 'gdp_per_capita'."
   ]
  },
  {
   "cell_type": "code",
   "execution_count": 20,
   "metadata": {},
   "outputs": [
    {
     "name": "stdout",
     "output_type": "stream",
     "text": [
      "Correlation coefficient: 0.032357695536174874\n",
      "P-value: 0.6942552565108163\n"
     ]
    }
   ],
   "source": [
    "# calculate pearson correlation coefficient and p_value for 'gdp_per_capita' and 'non_road_spending'\n",
    "coefficient, p_value = pearsonr(country['gdp_per_capita'], country['non_road_spending'])\n",
    "\n",
    "print(f\"Correlation coefficient: {coefficient}\")\n",
    "print(f\"P-value: {p_value}\")"
   ]
  },
  {
   "attachments": {},
   "cell_type": "markdown",
   "metadata": {},
   "source": [
    "Since the correlation coefficient is positive, it indicates that there is a positive linear relationship between the two variables. Additionally, the P-value is greater than 0.05, indicating there is not a statistically significant correlation between 'non_road_spending' and 'gdp_per_capita'."
   ]
  },
  {
   "cell_type": "code",
   "execution_count": 29,
   "metadata": {},
   "outputs": [
    {
     "name": "stdout",
     "output_type": "stream",
     "text": [
      "Correlation coefficient: -0.12339923825825273\n",
      "P-value: 0.13246839371895835\n"
     ]
    }
   ],
   "source": [
    "# calculate pearson correlation coefficient and p_value for 'gdp_per_capita' and 'population'\n",
    "coefficient, p_value = pearsonr(country['gdp_per_capita'], country['population'])\n",
    "\n",
    "print(f\"Correlation coefficient: {coefficient}\")\n",
    "print(f\"P-value: {p_value}\")"
   ]
  },
  {
   "attachments": {},
   "cell_type": "markdown",
   "metadata": {},
   "source": [
    "Since the correlation coefficient is negative, it indicates that there is a negative linear relationship between the two variables. Additionally, the P-value is greater than 0.05, indicating there is not a statistically significant correlation between 'population' and 'gdp_per_capita'."
   ]
  },
  {
   "cell_type": "code",
   "execution_count": 30,
   "metadata": {},
   "outputs": [
    {
     "name": "stdout",
     "output_type": "stream",
     "text": [
      "Correlation coefficient: 0.5032658694376598\n",
      "P-value: 5.247417071501173e-11\n"
     ]
    }
   ],
   "source": [
    "# calculate pearson correlation coefficient and p_value for 'gdp_per_capita' and 'population'\n",
    "coefficient, p_value = pearsonr(country['gdp_per_capita'], country['passenger_cars_per_1000'])\n",
    "\n",
    "print(f\"Correlation coefficient: {coefficient}\")\n",
    "print(f\"P-value: {p_value}\")"
   ]
  },
  {
   "attachments": {},
   "cell_type": "markdown",
   "metadata": {},
   "source": [
    "Since the correlation coefficient is positive, it indicates that there is a positive linear relationship between the two variables. Additionally, the P-value is less than 0.05, indicating there is a statistically significant correlation between 'passenger_cars_per_1000' and 'gdp_per_capita'."
   ]
  },
  {
   "cell_type": "code",
   "execution_count": 31,
   "metadata": {},
   "outputs": [
    {
     "name": "stdout",
     "output_type": "stream",
     "text": [
      "Correlation coefficient: 0.022017473758203357\n",
      "P-value: 0.7891346456501479\n"
     ]
    }
   ],
   "source": [
    "# calculate pearson correlation coefficient and p_value for 'gdp_per_capita' and 'passengers_transported'\n",
    "coefficient, p_value = pearsonr(country['gdp_per_capita'], country['passengers_transported'])\n",
    "\n",
    "print(f\"Correlation coefficient: {coefficient}\")\n",
    "print(f\"P-value: {p_value}\")"
   ]
  },
  {
   "attachments": {},
   "cell_type": "markdown",
   "metadata": {},
   "source": [
    "Since the correlation coefficient is positive, it indicates that there is a positive linear relationship between the two variables. Additionally, the P-value is greater than 0.05, indicating there is not a statistically significant correlation between 'passengers_transported' and 'gdp_per_capita'."
   ]
  },
  {
   "attachments": {},
   "cell_type": "markdown",
   "metadata": {},
   "source": [
    "### Summary:\n",
    "\n",
    "- **passengers_transported and total_road_spending:** positive linear relationship; there IS a significant correlation (p-value < 0.05)\n",
    "- **passengers_transported and total_inland_transport_investment:** positive linear relationship; there IS a significant correlation (p-value < 0.05)\n",
    "- **passengers_transported and non_road_spending:** positive linear relationship; there IS a significant correlation (p-value < 0.05)\n",
    "- **passengers_transported and population:** positive linear relationship; there IS a significant correlation (p-value < 0.05)\n",
    "- **passenger_cars_per_1000 and total_road_spending:** positive linear relationship; there IS a significant correlation (p-value < 0.05)\n",
    "- **passenger_cars_per_1000 and total_inland_transport_investment:** positive linear relationship; there IS a significant correlation (p-value < 0.05)\n",
    "- **passenger_cars_per_1000 and non_road_spending:** negative linear relationship; no significant correlation (p-value > 0.05)\n",
    "- **passenger_cars_per_1000 and population:** positive linear relationship; there IS a significant correlation (p-value < 0.05)\n",
    "- **gdp_per_capita and total_road_spending:** positive linear relationship; no significant correlation (p-value > 0.05)\n",
    "- **gdp_per_capita and total_inland_transport_investment:** positive linear relationship; no significant correlation (p-value > 0.05)\n",
    "- **gdp_per_capita and non_road_spending:** positive linear relationship; no significant correlation (p-value > 0.05)\n",
    "- **gdp_per_capita and population:** negative linear relationshop; no significant correlation (p-value > 0.05)\n",
    "- **gdp_per_capita and passenger_cars_per_1000:** positive linear relationship; there IS a significant correlation (p-value < 0.05)\n",
    "- **gdp_per_capita and passengers_transported:** positive linear relationship; no significant correlation (p-value > 0.05)"
   ]
  }
 ],
 "metadata": {
  "kernelspec": {
   "display_name": "Python 3",
   "language": "python",
   "name": "python3"
  },
  "language_info": {
   "codemirror_mode": {
    "name": "ipython",
    "version": 3
   },
   "file_extension": ".py",
   "mimetype": "text/x-python",
   "name": "python",
   "nbconvert_exporter": "python",
   "pygments_lexer": "ipython3",
   "version": "3.10.5"
  },
  "orig_nbformat": 4
 },
 "nbformat": 4,
 "nbformat_minor": 2
}
